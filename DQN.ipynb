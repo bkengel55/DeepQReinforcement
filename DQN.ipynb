{
  "nbformat": 4,
  "nbformat_minor": 0,
  "metadata": {
    "colab": {
      "private_outputs": true,
      "provenance": [],
      "toc_visible": true
    },
    "kernelspec": {
      "display_name": "Python 3",
      "language": "python",
      "name": "python3"
    },
    "pycharm": {
      "stem_cell": {
        "cell_type": "raw",
        "metadata": {
          "collapsed": false
        },
        "source": []
      }
    }
  },
  "cells": [
    {
      "cell_type": "markdown",
      "metadata": {
        "id": "klGNgWREsvQv"
      },
      "source": [
        "##### Copyright 2018 The TF-Agents Authors."
      ]
    },
    {
      "cell_type": "code",
      "metadata": {
        "cellView": "form",
        "id": "nQnmcm0oI1Q-"
      },
      "source": [
        "#@title Licensed under the Apache License, Version 2.0 (the \"License\");\n",
        "# you may not use this file except in compliance with the License.\n",
        "# You may obtain a copy of the License at\n",
        "#\n",
        "# https://www.apache.org/licenses/LICENSE-2.0\n",
        "#\n",
        "# Unless required by applicable law or agreed to in writing, software\n",
        "# distributed under the License is distributed on an \"AS IS\" BASIS,\n",
        "# WITHOUT WARRANTIES OR CONDITIONS OF ANY KIND, either express or implied.\n",
        "# See the License for the specific language governing permissions and\n",
        "# limitations under the License."
      ],
      "execution_count": null,
      "outputs": []
    },
    {
      "cell_type": "markdown",
      "metadata": {
        "id": "pmDI-h7cI0tI"
      },
      "source": [
        "# Train a Deep Q Network with TF-Agents\n",
        "\n",
        "<table class=\"tfo-notebook-buttons\" align=\"left\">\n",
        "  <td>\n",
        "    <a target=\"_blank\" href=\"https://www.tensorflow.org/agents/tutorials/1_dqn_tutorial\">\n",
        "    <img src=\"https://www.tensorflow.org/images/tf_logo_32px.png\" />\n",
        "    View on TensorFlow.org</a>\n",
        "  </td>\n",
        "  <td>\n",
        "    <a target=\"_blank\" href=\"https://colab.research.google.com/github/tensorflow/agents/blob/master/docs/tutorials/1_dqn_tutorial.ipynb\">\n",
        "    <img src=\"https://www.tensorflow.org/images/colab_logo_32px.png\" />\n",
        "    Run in Google Colab</a>\n",
        "  </td>\n",
        "  <td>\n",
        "    <a target=\"_blank\" href=\"https://github.com/tensorflow/agents/blob/master/docs/tutorials/1_dqn_tutorial.ipynb\">\n",
        "    <img src=\"https://www.tensorflow.org/images/GitHub-Mark-32px.png\" />\n",
        "    View source on GitHub</a>\n",
        "  </td>\n",
        "  <td>\n",
        "    <a href=\"https://storage.googleapis.com/tensorflow_docs/agents/docs/tutorials/1_dqn_tutorial.ipynb\"><img src=\"https://www.tensorflow.org/images/download_logo_32px.png\" />Download notebook</a>\n",
        "  </td>\n",
        "</table>"
      ]
    },
    {
      "cell_type": "markdown",
      "metadata": {
        "id": "lsaQlK8fFQqH"
      },
      "source": [
        "## Introduction\n"
      ]
    },
    {
      "cell_type": "markdown",
      "metadata": {
        "id": "cKOCZlhUgXVK"
      },
      "source": [
        "This example shows how to train a [DQN (Deep Q Networks)](https://storage.googleapis.com/deepmind-media/dqn/DQNNaturePaper.pdf)  agent on the Cartpole environment using the TF-Agents library.\n",
        "\n",
        "![Cartpole environment](https://raw.githubusercontent.com/tensorflow/agents/master/docs/tutorials/images/cartpole.png)\n",
        "\n",
        "It will walk you through all the components in a Reinforcement Learning (RL) pipeline for training, evaluation and data collection.\n",
        "\n",
        "\n",
        "To run this code live, click the 'Run in Google Colab' link above.\n"
      ]
    },
    {
      "cell_type": "markdown",
      "metadata": {
        "id": "1u9QVVsShC9X"
      },
      "source": [
        "## Setup"
      ]
    },
    {
      "cell_type": "markdown",
      "metadata": {
        "id": "kNrNXKI7bINP"
      },
      "source": [
        "If you haven't installed the following dependencies, run:"
      ]
    },
    {
      "cell_type": "code",
      "metadata": {
        "id": "KEHR2Ui-lo8O"
      },
      "source": [
        "!sudo apt-get install -y xvfb ffmpeg\n",
        "!pip install gym\n",
        "!pip install 'imageio==2.4.0'\n",
        "!pip install PILLOW\n",
        "!pip install pyglet\n",
        "!pip install pyvirtualdisplay\n",
        "!pip install tf-agents"
      ],
      "execution_count": null,
      "outputs": []
    },
    {
      "cell_type": "code",
      "metadata": {
        "id": "aDymG9TQAXyn"
      },
      "source": [
        "import random\n",
        "import matplotlib.pyplot as plt\n",
        "from abc import ABC, abstractmethod\n",
        "\n",
        "class TicTacToe():\n",
        "\n",
        "    def __init__(self):\n",
        "        self.state = '---------'\n",
        "\n",
        "    # Resets the game\n",
        "    def reset_game(self):\n",
        "        self.state = '---------'\n",
        "\n",
        "    # Check if game over\n",
        "    def game_over(self):\n",
        "\n",
        "        # Check if there are any possible moves\n",
        "        if '-' in self.state:\n",
        "            return None\n",
        "\n",
        "        # Each list corresponds to the values to check to see if a winner is there\n",
        "        checks = [[0, 1, 2], [3, 4, 5], [6, 7, 8], [0, 3, 6], [1, 4, 7] , [2, 5, 8], [0, 4, 8], [2, 4, 6]]\n",
        "        for check in checks:\n",
        "            # Check to see if the strings have a winner\n",
        "            test = self.state[check[0]] + self.state[check[1]] + self.state[check[2]]\n",
        "            if test == 'XXX':\n",
        "                return 'X'\n",
        "            elif test == 'OOO':\n",
        "                return 'O'\n",
        "\n",
        "        # Return tie in the last case\n",
        "        return 'T'\n",
        "\n",
        "    # Does a move given an action (number) and a piece\n",
        "    def play_move(self, move, ID):\n",
        "\n",
        "        # Return false if illegal move\n",
        "        if self.state[move] != '-':\n",
        "            return False\n",
        "\n",
        "        # Plays a move depending on what number is fed in\n",
        "        self.state = self.state[:move] + ID + self.state[move+1:]\n",
        "\n",
        "        # Return true if legal move\n",
        "        return True\n",
        "\n",
        "    # Gets the reward via ID\n",
        "    def get_reward(self, result, ID):\n",
        "\n",
        "        # No reward for a non-game ending state\n",
        "        if result == 'T':\n",
        "            return 0.5\n",
        "        elif result == ID:\n",
        "            return 1\n",
        "        else:\n",
        "            return 0\n",
        "\n",
        "    # Trains a bot against a random player\n",
        "    def train(self, a_1, a_2, batch):\n",
        "\n",
        "        # Exit if the same ID\n",
        "        if a_1.ID == a_2.ID:\n",
        "            return\n",
        "\n",
        "        # Store total wins\n",
        "        a_1_wins = 0\n",
        "        a_1_ties = 0\n",
        "\n",
        "        # Train on 1000 games per session\n",
        "        for i in range(batch):\n",
        "\n",
        "            # Store the result\n",
        "            result = None\n",
        "\n",
        "            # Make a turn variable to see who's it is\n",
        "            turn = 'X'\n",
        "\n",
        "            # Each game is at most 9 turns\n",
        "            for i in range(9):\n",
        "\n",
        "                # Play moves\n",
        "                if a_1.ID == turn:\n",
        "\n",
        "                    # Get move and play move\n",
        "                    move = a_1.get_move(self.state)\n",
        "                    self.play_move(move, a_1.ID)\n",
        "\n",
        "                    # Flip turn\n",
        "                    turn = 'O'\n",
        "\n",
        "                    # Check game over\n",
        "                    result = self.game_over()\n",
        "                    if (result != None):\n",
        "                        break\n",
        "\n",
        "                else:\n",
        "                    # Do random move for other player\n",
        "                    move = a_2.get_move(self.state)\n",
        "                    self.play_move(move, a_2.ID)\n",
        "\n",
        "                    # Flip turn\n",
        "                    turn = 'X'\n",
        "\n",
        "                    # Check game over\n",
        "                    result = self.game_over()\n",
        "                    if (result != None):\n",
        "                        break\n",
        "\n",
        "            # Update if game over\n",
        "            if result != None:\n",
        "                a_1.calculate(self.get_reward(result, a_1.ID))\n",
        "                a_2.calculate(self.get_reward(result, a_2.ID))\n",
        "                a_1.reset()\n",
        "                a_2.reset()\n",
        "                self.reset_game()\n",
        "\n",
        "                # Add one to wins if won\n",
        "                if result == a_1.ID:\n",
        "                    a_1_wins += 1\n",
        "                elif result == 'T':\n",
        "                    a_1_ties += 1\n",
        "\n",
        "        return (a_1_wins, a_1_ties)\n",
        "\n",
        "\n",
        "# Superclass for aribtrary agent\n",
        "class Agent:\n",
        "\n",
        "    def __init__(self, ID, name):\n",
        "        self.ID = ID\n",
        "        self.name = name\n",
        "\n",
        "    # Called to get the next move\n",
        "    @abstractmethod\n",
        "    def get_move(self, state):\n",
        "        pass\n",
        "\n",
        "    # Called at the end of each game to calculate parameters\n",
        "    @abstractmethod\n",
        "    def calculate(self, result):\n",
        "        pass\n",
        "\n",
        "    # Called to reset the agent\n",
        "    @abstractmethod\n",
        "    def reset(self):\n",
        "        pass\n",
        "\n",
        "class Random(Agent):\n",
        "\n",
        "    def __init__(self, ID):\n",
        "        # Call superconstructor\n",
        "        super().__init__(ID, 'Random Agent')\n",
        "\n",
        "    def get_move(self, state):\n",
        "        return random.choice([i for i in range(9) if state[i] == '-'])\n",
        "\n",
        "    def calculate(self, result):\n",
        "        return\n",
        "\n",
        "    def reset(self):\n",
        "        return\n",
        "\n",
        "class Neural_Q_Agent(Agent):\n",
        "\n",
        "    def __init__(self, ID):\n",
        "        # Call superconstructor\n",
        "        super().__init__(ID, 'Neural Q Agent')\n",
        "\n",
        "    def get_move(self, state):\n",
        "        return random.choice([i for i in range(9) if state[i] == '-'])\n",
        "\n",
        "    def calculate(self, result):\n",
        "        return\n",
        "\n",
        "    def reset(self):\n",
        "        return\n",
        "\n",
        "class Tabular_Q_Agent(Agent):\n",
        "\n",
        "    def __init__(self, ID, random=False):\n",
        "\n",
        "        # Call superconstructor\n",
        "        super().__init__(ID, 'Tabular Q Agent')\n",
        "\n",
        "        # State sets, stored as dictionary\n",
        "        self.states = {}\n",
        "        self.alpha = 0.9\n",
        "        self.discount = 0.96\n",
        "        self.init = 0.6\n",
        "        self.recorded_states = []\n",
        "\n",
        "        # For gathering data\n",
        "        self.gather_data = False\n",
        "        self.training = []\n",
        "        self.labels = []\n",
        "\n",
        "    # For a new game\n",
        "    def reset(self):\n",
        "        self.recorded_states = []\n",
        "\n",
        "    # Calculate stuff for training\n",
        "    def neural_net_calc(self, result):\n",
        "\n",
        "        self.recorded_states.reverse()\n",
        "\n",
        "        # Flag for the first time\n",
        "        first = True\n",
        "        maximum = 0\n",
        "\n",
        "        # For the first case, we just use the reward\n",
        "        for state in self.recorded_states:\n",
        "\n",
        "            # Test these three characters\n",
        "            text = ['X', 'O', '-']\n",
        "            res = []\n",
        "            for char in text:\n",
        "                if state[i] == char:\n",
        "                    res.training.append(1)\n",
        "                else:\n",
        "                    res.training.append(0)\n",
        "\n",
        "            # Add the list to the training data\n",
        "            self.training.append(res)\n",
        "\n",
        "            # Do special update if first\n",
        "            if first:\n",
        "                # Set the win condition to 1\n",
        "                self.states[state[0]][state[1]] = reward\n",
        "                first = False\n",
        "            else:\n",
        "                if self.gather_data:\n",
        "\n",
        "                self.states[state[0]][state[1]] = (1 - self.alpha) * self.states[state[0]][state[1]] + self.alpha * self.discount * maximum\n",
        "\n",
        "            # Store the previous max\n",
        "            maximum = max(self.states[state[0]])\n",
        "\n",
        "\n",
        "    # Updates the policy\n",
        "    def calculate(self, reward):\n",
        "\n",
        "        # Skip this if we're just gathering data\n",
        "        if self.gather_data:\n",
        "            return\n",
        "\n",
        "        # Iterate through the states\n",
        "        self.recorded_states.reverse()\n",
        "\n",
        "        # Flag for the first time\n",
        "        first = True\n",
        "        maximum = 0\n",
        "\n",
        "        # For the first case, we just use the reward\n",
        "        for state in self.recorded_states:\n",
        "\n",
        "            # Do special update if first\n",
        "            if first:\n",
        "                # Set the win condition to 1\n",
        "                self.states[state[0]][state[1]] = reward\n",
        "                first = False\n",
        "            else:\n",
        "                if self.gather_data:\n",
        "\n",
        "                self.states[state[0]][state[1]] = (1 - self.alpha) * self.states[state[0]][state[1]] + self.alpha * \\\n",
        "                                                  self.discount * maximum\n",
        "\n",
        "            # Store the previous max\n",
        "            maximum = max(self.states[state[0]])\n",
        "\n",
        "    # Get q-value list for a key with lazy initialization\n",
        "    def get_q(self, state):\n",
        "\n",
        "        # If the key is there return it\n",
        "        if state in self.states:\n",
        "            return self.states[state]\n",
        "        # Otherwise initialize it and set illegal moves to -Inf\n",
        "        else:\n",
        "            res = []\n",
        "            # Initialize the array with -inf for values that are illegal\n",
        "            for i in range(9):\n",
        "                if state[i] == '-':\n",
        "                    res.append(self.init)\n",
        "                else:\n",
        "                    res.append(float('-inf'))\n",
        "\n",
        "            self.states[state] = res\n",
        "            return res\n",
        "\n",
        "    # Generates possible states to move to\n",
        "    def generate_moves(self, state, piece):\n",
        "\n",
        "        # Create a list to store\n",
        "        moves = []\n",
        "\n",
        "        # Iterate through and add 'X' or 'O' wherever possible\n",
        "        for i in range(9):\n",
        "            if state[i] == '-':\n",
        "                moves.append(state[:i] + piece + state[i+1:])\n",
        "\n",
        "        return moves\n",
        "\n",
        "    # Get an optimal move\n",
        "    def get_move(self, state):\n",
        "\n",
        "\n",
        "        # Get the q-values for this\n",
        "        q_vals = self.get_q(state)\n",
        "\n",
        "        # Get location of all max values and select a random one\n",
        "        max_q = max(q_vals)\n",
        "        move = random.choice([i for i, j in enumerate(q_vals) if j == max_q])\n",
        "\n",
        "        # Record a tuple of board state and index of move\n",
        "        self.recorded_states.append((state, move))\n",
        "\n",
        "        return move\n",
        "\n",
        "\n",
        "# Initialize environment\n",
        "p1 = Tabular_Q_Agent('X')\n",
        "p2 = Tabular_Q_Agent('O')\n",
        "t = TicTacToe()\n",
        "\n",
        "# Store results\n",
        "wins = []\n",
        "ties = []\n",
        "losses = []\n",
        "count = []\n",
        "batch = 100\n",
        "for i in range (500):\n",
        "    print(i)\n",
        "    res = t.train(p1, p2, batch)\n",
        "    wins.append(res[0] / batch)\n",
        "    ties.append(res[1] / batch)\n",
        "    losses.append((batch - res[0] - res[1]) / batch)\n",
        "    count.append(batch * i)\n",
        "\n",
        "\n",
        "# Print stuff for matplotlib\n",
        "plt.ylabel('Outcomes (%)')\n",
        "plt.xlabel('Number of Games')\n",
        "plt.title('P1: ({}) vs. P2: ({})'.format(p1.name, p2.name))\n",
        "\n",
        "plt.plot(count, wins, 'b-', label='P1 Win')\n",
        "plt.plot(count, losses, 'r-', label='P2 Win')\n",
        "plt.plot(count, ties, 'g-', label='Tie')\n",
        "plt.legend(loc='best')\n",
        "plt.show()"
      ],
      "execution_count": null,
      "outputs": []
    },
    {
      "cell_type": "code",
      "metadata": {
        "id": "vjL6LsVqAXwC"
      },
      "source": [],
      "execution_count": null,
      "outputs": []
    },
    {
      "cell_type": "code",
      "metadata": {
        "id": "sMitx5qSgJk1"
      },
      "source": [
        "from __future__ import absolute_import, division, print_function\n",
        "\n",
        "import base64\n",
        "import imageio\n",
        "import IPython\n",
        "import matplotlib\n",
        "import matplotlib.pyplot as plt\n",
        "import numpy as np\n",
        "import PIL.Image\n",
        "import pyvirtualdisplay\n",
        "\n",
        "import tensorflow as tf\n",
        "\n",
        "from tf_agents.agents.dqn import dqn_agent\n",
        "from tf_agents.drivers import dynamic_step_driver\n",
        "from tf_agents.environments import suite_gym\n",
        "from tf_agents.environments import tf_py_environment\n",
        "from tf_agents.eval import metric_utils\n",
        "from tf_agents.metrics import tf_metrics\n",
        "from tf_agents.networks import q_network\n",
        "from tf_agents.policies import random_tf_policy\n",
        "from tf_agents.replay_buffers import tf_uniform_replay_buffer\n",
        "from tf_agents.trajectories import trajectory\n",
        "from tf_agents.utils import common"
      ],
      "execution_count": null,
      "outputs": []
    },
    {
      "cell_type": "code",
      "metadata": {
        "id": "abzbu0P-2V0s"
      },
      "source": [
        "!apt-get install python3-tk\n",
        "!apt-get install -y xvfb # Install X Virtual Frame Buffer\n",
        "import os\n",
        "os.system('Xvfb :1 -screen 0 1600x1200x16  &')    # create virtual display with size 1600x1200 and 16 bit color. Color can be changed to 24 or 8\n",
        "os.environ['DISPLAY']=':1.0'"
      ],
      "execution_count": null,
      "outputs": []
    },
    {
      "cell_type": "code",
      "metadata": {
        "id": "K45zW4y5vIvU"
      },
      "source": [
        "import numpy as np\n",
        "\n",
        "class Trainer:\n",
        "\n",
        "    def __init__(self, agent, learning_parameter = 0.1, discount_factor = 0.9, Q = {}):\n",
        "        \"\"\"\n",
        "            agent (Agent)\n",
        "            learning_parameter (float)\n",
        "            discount_factor (float)\n",
        "            Q (dict)\n",
        "        \"\"\"\n",
        "\n",
        "        self.agent = agent\n",
        "        self.learning_parameter = learning_parameter\n",
        "        self.discount_factor = discount_factor\n",
        "        self.Q = Q\n",
        "\n",
        "    def getStatePairKey(state_hash, action_hash):\n",
        "        \"\"\" Returns state-pair hash key, requires separate state and action hash keys first \"\"\"\n",
        "        return state_hash*action_hash\n",
        "\n",
        "    def getValueQ(self, state_hash, action_hash):\n",
        "        \"\"\" Get expected reward given an action in a given state,\n",
        "            returns 0 if the state-action pair has not been seen before.\n",
        "            Input is state and action hash key                          \"\"\"\n",
        "\n",
        "        state_action_key = Trainer.getStatePairKey(state_hash, action_hash)\n",
        "        if state_action_key in self.Q:\n",
        "            return self.Q.get(state_action_key)\n",
        "        else:\n",
        "            self.Q[state_action_key] = 0\n",
        "            return 0\n",
        "\n",
        "    def setValueQ(self, state_hash, action_hash, value):\n",
        "        \"\"\" Set value in Q \"\"\"\n",
        "        state_action_key = Trainer.getStatePairKey(state_hash, action_hash)\n",
        "\n",
        "        self.Q[state_action_key] = value\n",
        "\n",
        "    def getMaxQ(self, state_hash, list_action_hash):\n",
        "        \"\"\" Returns the maximum Q value given a state and list of actions (input is hash keys) \"\"\"\n",
        "        maxQ = 0\n",
        "        for a_hash in list_action_hash:\n",
        "            tmpQ = self.getValueQ(state_hash, a_hash)\n",
        "            if maxQ < tmpQ:\n",
        "                maxQ = tmpQ\n",
        "        return maxQ\n",
        "\n",
        "    def getBestAction(self, state_hash, list_action_hash, list_actions):\n",
        "        \"\"\" Get best action given a set of possible actions in a given state \"\"\"\n",
        "\n",
        "        # Pick a random action at first\n",
        "        random_idx = np.random.choice(list_actions.shape[0])\n",
        "        best_action = list_actions[random_idx]\n",
        "\n",
        "        # Find action that given largest Q in given state\n",
        "        maxQ = 0\n",
        "        for a_hash, action in zip(list_action_hash, list_actions):\n",
        "            tmpQ = self.getValueQ(state_hash, a_hash)\n",
        "            if maxQ < tmpQ:\n",
        "                maxQ = tmpQ\n",
        "                best_action = action\n",
        "\n",
        "        return best_action\n",
        "\n",
        "\n",
        "    def updateQ(self, state, action):\n",
        "        \"\"\" Implements Q-learning iterative algorithm \"\"\"\n",
        "\n",
        "\n",
        "        state_hash = state.getStateHash()\n",
        "        action_hash = self.agent.getActionHash(action)\n",
        "\n",
        "        # Get current Q Value\n",
        "        currentQ = self.getValueQ(state_hash, action_hash)\n",
        "\n",
        "        # Find max Q value given the possible set of actions in the next state\n",
        "        next_state, next_actions = self.agent.getActionHashFromState(action=action, state=state)\n",
        "        max_nextQ = self.getMaxQ(next_state, next_actions)\n",
        "\n",
        "        # Update new Q\n",
        "        newQ =  (1-self.learning_parameter)*currentQ\n",
        "        newQ += self.learning_parameter*(self.agent.rewardFunction(state, action) + self.discount_factor*max_nextQ)\n",
        "\n",
        "        self.setValueQ(state_hash, action_hash, newQ)"
      ],
      "execution_count": null,
      "outputs": []
    },
    {
      "cell_type": "code",
      "metadata": {
        "id": "U4L2rrJcvNOa"
      },
      "source": [
        "import numpy as np\n",
        "\n",
        "class Board:\n",
        "    \"\"\" Class that represents the game board of Tic Tac Toe \"\"\"\n",
        "\n",
        "    playerX = 1\n",
        "    playerO = -1\n",
        "\n",
        "    def __init__(self, rows = 3, cols = 3, win_threshold = 3):\n",
        "        \"\"\"\n",
        "            rows (int)\n",
        "            cols (int)\n",
        "            win_threshold (int) - Do not change\n",
        "        \"\"\"\n",
        "        self.state = np.zeros((rows, cols), dtype=np.int8)\n",
        "        self.rows = rows\n",
        "        self.cols = cols\n",
        "        self.win_threshold = win_threshold\n",
        "\n",
        "    def getState(self):\n",
        "        \"\"\" Get state of game \"\"\"\n",
        "        return self.state\n",
        "\n",
        "    def getPosition(self, x, y):\n",
        "        \"\"\" Get state at position (x,y) \"\"\"\n",
        "        return self.state[x,y]\n",
        "\n",
        "    def setPosition(self, x, y, value):\n",
        "        \"\"\"  Set state at position (x,y) with value \"\"\"\n",
        "        self.state[x,y] = value\n",
        "\n",
        "    def getAvailablePos(self):\n",
        "        \"\"\"  Get state positions that have no value (non-zero) \"\"\"\n",
        "        return np.argwhere(self.state == 0)\n",
        "\n",
        "    def getStateHash(self, inverted=False):\n",
        "        \"\"\"  Get hash key of state \"\"\"\n",
        "        factor = 1\n",
        "        state_hash = 0\n",
        "        for i in range(self.rows):\n",
        "            for j in range(self.cols):\n",
        "\n",
        "                if inverted:\n",
        "                    state_hash -= self.state[i,j]*factor\n",
        "                else:\n",
        "                    state_hash += self.state[i,j]*factor\n",
        "\n",
        "                factor = 10*factor\n",
        "        return state_hash\n",
        "\n",
        "    def checkWinner(self):\n",
        "        \"\"\"  Get winner, if one exists \"\"\"\n",
        "        \"\"\" TODO: Not general case, only works for 3x3 board \"\"\"\n",
        "\n",
        "        symbols = np.unique(self.state)\n",
        "        symbols = list(symbols[np.nonzero(symbols)])\n",
        "\n",
        "        for sym in symbols:\n",
        "\n",
        "            # Check rows\n",
        "            row= np.any((np.all(self.state == sym, axis=1)))\n",
        "\n",
        "            # Check columns\n",
        "            col = np.any((np.all(self.state == sym, axis=0)))\n",
        "\n",
        "            # Check diagonals\n",
        "            diag1 = np.array([self.state[0,0], self.state[1,1], self.state[2,2]])\n",
        "            diag1 = np.all(diag1 == sym)\n",
        "\n",
        "            diag2 = np.array([self.state[0,2], self.state[1,1], self.state[2,0]])\n",
        "            diag2 = np.all(diag2 == sym)\n",
        "\n",
        "            # Check if state has winner and return winner in that case\n",
        "            if row or col or diag1 or diag2:\n",
        "                return sym\n",
        "\n",
        "        # No winner found\n",
        "        return 0\n",
        "\n",
        "    def checkGameEnded(self):\n",
        "        \"\"\" Check if game has ended by observing if there any possible moves left \"\"\"\n",
        "        return len(self.getAvailablePos()) == 0\n",
        "\n",
        "    def checkWinPossible(self, last_player_value):\n",
        "        \"\"\"\n",
        "            Test whether there is a winning move available for the next player.\n",
        "            Return True if it is available.\n",
        "            last_player (int)\n",
        "        \"\"\"\n",
        "\n",
        "        # Next player is the negative of last_player_value\n",
        "        next_player_player = - last_player_value\n",
        "\n",
        "        winning_move_found = False\n",
        "        for action in self.getAvailablePos():\n",
        "            x = action[0]\n",
        "            y = action[1]\n",
        "\n",
        "            # Perform action\n",
        "            self.setPosition(x, y, next_player_player)\n",
        "\n",
        "            # Check if winning move\n",
        "            if self.checkWinner() != 0:\n",
        "                winning_move_found = True\n",
        "\n",
        "            # Revert action\n",
        "            self.setPosition(x, y, 0)\n",
        "\n",
        "            # If found, then return True\n",
        "            if winning_move_found is True:\n",
        "                return True\n",
        "\n",
        "        return False\n",
        "\n",
        "\n",
        "\n",
        "    def resetGame(self):\n",
        "        \"\"\" Reset game \"\"\"\n",
        "        self.state = np.zeros((self.rows, self.cols), dtype=np.int16)\n",
        "\n",
        "    def getInvertedState(self):\n",
        "        \"\"\" Return state where player O and X have swapped places \"\"\"\n",
        "        return -self.state\n",
        "\n",
        "    def __str__(self):\n",
        "        return str(self.state)"
      ],
      "execution_count": null,
      "outputs": []
    },
    {
      "cell_type": "code",
      "metadata": {
        "id": "0nYik9-lvcJ8"
      },
      "source": [
        "import numpy as np\n",
        "import _pickle as cPickle\n",
        "\n",
        "class Agent:\n",
        "    \"\"\"  Class that defines agent and its possible actions \"\"\"\n",
        "\n",
        "\n",
        "    def __init__(self, symbol, state, load_trainer = None):\n",
        "        \"\"\"\n",
        "        symbol (string)\n",
        "        state (Board)\n",
        "        load_trainer (string) - Path to saved trainer\n",
        "        \"\"\"\n",
        "\n",
        "        self.symbol = symbol\n",
        "        self.current_state = state\n",
        "\n",
        "        self.actions = self.current_state.getAvailablePos()\n",
        "        self.action_history = []\n",
        "\n",
        "        if load_trainer is None:\n",
        "            self.trainer = Trainer(self)\n",
        "        else:\n",
        "            self.trainer = self.loadTrainer(load_trainer)\n",
        "\n",
        "    def getPossibleActions(self):\n",
        "        \"\"\" Get possible actions \"\"\"\n",
        "        self.updatePossibleActions()\n",
        "        return self.actions\n",
        "\n",
        "    def updatePossibleActions(self):\n",
        "        \"\"\" Update possible actions \"\"\"\n",
        "        self.actions = self.current_state.getAvailablePos()\n",
        "\n",
        "    def performAction(self, action, state = None, updateQ = False):\n",
        "        \"\"\"\n",
        "            Make move from agent, updates the state and possible actions.\n",
        "            Also updates Q at the same time.\n",
        "        \"\"\"\n",
        "\n",
        "        assert action.shape == (2,), \"Wrong shape \" + str(action)\n",
        "\n",
        "        if state == None:\n",
        "            state = self.current_state\n",
        "\n",
        "        # Read action\n",
        "        x = action[0]\n",
        "        y = action[1]\n",
        "\n",
        "        # Update Q as part of Q-learning in the Trainer class\n",
        "        if updateQ is True:\n",
        "            self.trainer.updateQ(state, action)\n",
        "\n",
        "        # Make move\n",
        "        state.setPosition(x, y, self.symbol)\n",
        "        self.action_history.append(action)\n",
        "\n",
        "        # Update possible actions\n",
        "        self.updatePossibleActions()\n",
        "\n",
        "    def performRandomAction(self, updateQ=True):\n",
        "        \"\"\" Perform random actions, important for exploration of state-pairs \"\"\"\n",
        "\n",
        "        self.updatePossibleActions()\n",
        "        random_idx = np.random.choice(self.actions.shape[0])\n",
        "        action = self.actions[random_idx]\n",
        "\n",
        "        self.performAction(action, updateQ=updateQ)\n",
        "\n",
        "        return action\n",
        "\n",
        "    def revertLastAction(self, state = None):\n",
        "        \"\"\" Make move from agent, updates the state and possible actions  \"\"\"\n",
        "\n",
        "        if state == None:\n",
        "            state = self.current_state\n",
        "\n",
        "        # Get last action\n",
        "        last_action = self.action_history.pop()\n",
        "        x = last_action[0]\n",
        "        y = last_action[1]\n",
        "\n",
        "        # Set to zero\n",
        "        state.setPosition(x, y, 0)\n",
        "\n",
        "        # Update possible actions\n",
        "        self.updatePossibleActions()\n",
        "\n",
        "    def getActionHash(self, action):\n",
        "        \"\"\" Get hash key of action \"\"\"\n",
        "        action_hash = 10*(action[0]+1) + (action[1]+1)\n",
        "        return action_hash\n",
        "\n",
        "    def getActionHashFromState(self, action = None, state = None):\n",
        "        \"\"\" Get hash key of actions in a given state, also returns the hash key of that state \"\"\"\n",
        "\n",
        "        if state is None:\n",
        "            state = self.current_state\n",
        "\n",
        "        if not action is None:\n",
        "            self.performAction(action, state=state)\n",
        "\n",
        "        next_state_hash = state.getStateHash()\n",
        "        next_actions_hash = []\n",
        "        for a in self.actions:\n",
        "            next_actions_hash.append(self.getActionHash(a))\n",
        "\n",
        "        if not action is None:\n",
        "            self.revertLastAction(state=state)\n",
        "\n",
        "        return next_state_hash, next_actions_hash\n",
        "\n",
        "    def rewardFunction(self, state, action):\n",
        "        \"\"\" Returns positive value actions turns into win, else zero \"\"\"\n",
        "\n",
        "        # Perform action\n",
        "        self.performAction(action, state=state)\n",
        "\n",
        "        # Check winner\n",
        "        winner = state.checkWinner()\n",
        "        missed_blocking_move = state.checkWinPossible(self.symbol)\n",
        "        if winner == self.symbol:\n",
        "                reward = 1\n",
        "        elif missed_blocking_move is True:\n",
        "                reward = -1\n",
        "        else:\n",
        "            reward = 0\n",
        "        # Revert action\n",
        "        self.revertLastAction(state=state)\n",
        "\n",
        "        return reward\n",
        "\n",
        "    def assignState(self, state):\n",
        "        \"\"\" Assign a state (Board) to the agent\"\"\"\n",
        "        self.current_state = state\n",
        "        self.updatePossibleActions()\n",
        "\n",
        "    def getBestAction(self):\n",
        "        \"\"\" Get best move from the Trainer that has the largest expected reward \"\"\"\n",
        "\n",
        "        self.updatePossibleActions()\n",
        "\n",
        "        # Get hash key for state and actions\n",
        "        state_hash, actions_hash = self.getActionHashFromState()\n",
        "\n",
        "        # Return best move (if all are equally good, then it picks one at random)\n",
        "        return self.trainer.getBestAction(state_hash, actions_hash, self.actions)\n",
        "\n",
        "\n",
        "    def saveTrainer(self, save_path):\n",
        "        \"\"\" Saves agent to save_path (str) \"\"\"\n",
        "        dict = self.trainer.Q\n",
        "        with open(save_path, \"wb\") as f:\n",
        "            cPickle.dump(dict, f)\n",
        "\n",
        "    def loadTrainer(self, save_path):\n",
        "        \"\"\"\n",
        "        Load Q-values from another trainer\n",
        "        \"\"\"\n",
        "\n",
        "        with open(save_path, \"rb\") as f:\n",
        "            dict = cPickle.load(f)\n",
        "\n",
        "        return Trainer(self, Q=dict)"
      ],
      "execution_count": null,
      "outputs": []
    },
    {
      "cell_type": "code",
      "metadata": {
        "id": "bBF7QIi7wIzo"
      },
      "source": [
        "\n",
        "from tqdm import tqdm\n",
        "import random\n",
        "\n",
        "player1_symbol = Board.playerX\n",
        "player2_symbol = Board.playerO\n",
        "\n",
        "def simulate(iterations, explore_only = False, save_agent1 = None):\n",
        "    \"\"\"\n",
        "        iterations (int)\n",
        "        explore_only (bool) - If true, then only explore.\n",
        "                              Else,  follow an epsilon-greedy policy that lowers the probability to explore over time.\n",
        "    \"\"\"\n",
        "\n",
        "    # Construct game board\n",
        "    game = Board()\n",
        "    exploration_probability = 1\n",
        "\n",
        "    # Initialize players\n",
        "    agent1 = Agent(player1_symbol, game)\n",
        "    agent2 = Agent(player2_symbol, game)\n",
        "\n",
        "    # Counters for wins of each agent and total number of games\n",
        "    nbr_wins_agent1 = 0\n",
        "    nbr_wins_agent2 = 0\n",
        "    nbr_games = 0\n",
        "\n",
        "    # Pick current player\n",
        "    current_player = player1_symbol\n",
        "\n",
        "    # Epsilon-greedy\n",
        "    exploration_probability = 1.0\n",
        "\n",
        "    # Start iterations\n",
        "    for i in tqdm(range(iterations)):\n",
        "\n",
        "        # Check if games has ended, reset if True\n",
        "        if game.checkGameEnded():\n",
        "            nbr_games += 1\n",
        "            game.resetGame()\n",
        "            agent1.updatePossibleActions()\n",
        "            agent2.updatePossibleActions()\n",
        "\n",
        "        # Check who is the current player\n",
        "        if current_player == agent1.symbol:\n",
        "            a = agent1\n",
        "        else:\n",
        "            a = agent2\n",
        "\n",
        "        # Explore\n",
        "        if explore_only is True or random.random() < exploration_probability:\n",
        "            a.performRandomAction(updateQ=True)\n",
        "        # Exploit\n",
        "        else:\n",
        "            best_action = a.getBestAction()\n",
        "            a.performAction(best_action, updateQ=(True))\n",
        "\n",
        "        # Reduce probability to explore during training\n",
        "        # Do not remove completely\n",
        "        if exploration_probability > 0.2:\n",
        "            exploration_probability -= 1/iterations\n",
        "\n",
        "        # Check if there is a winner\n",
        "        winner = game.checkWinner() # Returns 0 if there is no winner\n",
        "        if winner != 0:\n",
        "\n",
        "            # Reset game and retrieve\n",
        "            nbr_games += 1\n",
        "            game.resetGame()\n",
        "\n",
        "            # Add to count for corresponding winner\n",
        "            if winner == agent1.symbol:\n",
        "                nbr_wins_agent1 += 1\n",
        "            else:\n",
        "                nbr_wins_agent2 += 1\n",
        "\n",
        "        # Swap player\n",
        "        if current_player == player1_symbol:\n",
        "            current_player = player2_symbol\n",
        "        else:\n",
        "            current_player = player1_symbol\n",
        "\n",
        "\n",
        "    # Print outcome\n",
        "    print(nbr_wins_agent1, nbr_wins_agent2, nbr_games)\n",
        "    print(\"Win percentage: Agent 1 {:.2%}, Agent 2 {:.2%}.\".format(nbr_wins_agent1/nbr_games, nbr_wins_agent2/nbr_games))\n",
        "\n",
        "    if save_agent1 is not None:\n",
        "        print(\"Saved trainer of agent 1 to {}\".format(save_agent1))\n",
        "        agent1.saveTrainer(save_agent1)\n",
        "\n",
        "    # Return agents\n",
        "    return agent1, agent2\n",
        "\n",
        "if __name__ == \"__main__\":\n",
        "\n",
        "    # Train two agents against each other and save it in playerX.pkl\n",
        "    iterations = 250000\n",
        "    agent1, agent2 = simulate(iterations, explore_only=False, save_agent1=\"playerX.pkl\")"
      ],
      "execution_count": null,
      "outputs": []
    },
    {
      "cell_type": "code",
      "metadata": {
        "id": "dY4MTXhxxo6Z"
      },
      "source": [
        "import tkinter as tk\n",
        "import random\n",
        "import time\n",
        "import numpy as np\n",
        "\n",
        "import matplotlib\n",
        "import os\n",
        "\n",
        "\n",
        "playerX = Board.playerX\n",
        "playerO = Board.playerO\n",
        "agent_save = \"playerX.pkl\"\n",
        "\n",
        "class Application(tk.Frame):\n",
        "    def __init__(self, master=None):\n",
        "        if os.environ.get('DISPLAY','') == '':\n",
        "            print('Currently no display found. Using the non-interactive Agg backend')\n",
        "            matplotlib.use('Agg')\n",
        "        tk.Frame.__init__(self, master)\n",
        "        self.master.title(\"Tic-tac-toe\")\n",
        "        self.master.minsize(300, 300)\n",
        "\n",
        "        # Start game\n",
        "        self.board = Board(rows=3, cols=3, win_threshold=3)\n",
        "        self.current_player = playerX if (random.random() < 0.5) else playerO\n",
        "\n",
        "        # Train agent and assign it to this game\n",
        "        print(\"Preparing agent\")\n",
        "        self.agent = Agent(playerX, self.board, load_trainer=agent_save)\n",
        "        self.agent_symbol = self.agent.symbol\n",
        "\n",
        "        # Create widgets\n",
        "        self.createBoard(self.board)\n",
        "\n",
        "        if self.current_player == self.agent_symbol:\n",
        "            self.agentMove()\n",
        "\n",
        "        self.pack(fill=\"both\")\n",
        "\n",
        "    def createBoard(self, board):\n",
        "\n",
        "        # Text label\n",
        "        self.info_label = tk.Label(self, text = \"Player {}'s turn\".format(\"X\" if self.current_player == playerX else \"O\") )\n",
        "\n",
        "\n",
        "        # Create buttons\n",
        "        self.button00 = tk.Button(self, height = 4, width = 8, text=' ', font='Times 20 bold', bg='gray', fg='white', command = lambda : self.playMove(0,0))\n",
        "        self.button01 = tk.Button(self, height = 4, width = 8, text=' ', font='Times 20 bold', bg='gray', fg='white', command = lambda : self.playMove(0,1))\n",
        "        self.button02 = tk.Button(self, height = 4, width = 8, text=' ', font='Times 20 bold', bg='gray', fg='white', command = lambda : self.playMove(0,2))\n",
        "\n",
        "        self.button10 = tk.Button(self, height = 4, width = 8, text=' ', font='Times 20 bold', bg='gray', fg='white', command = lambda : self.playMove(1,0))\n",
        "        self.button11 = tk.Button(self, height = 4, width = 8, text=' ', font='Times 20 bold', bg='gray', fg='white', command = lambda : self.playMove(1,1))\n",
        "        self.button12 = tk.Button(self, height = 4, width = 8, text=' ', font='Times 20 bold', bg='gray', fg='white', command = lambda : self.playMove(1,2))\n",
        "\n",
        "        self.button20 = tk.Button(self, height = 4, width = 8, text=' ', font='Times 20 bold', bg='gray', fg='white', command = lambda : self.playMove(2,0))\n",
        "        self.button21 = tk.Button(self, height = 4, width = 8, text=' ', font='Times 20 bold', bg='gray', fg='white', command = lambda : self.playMove(2,1))\n",
        "        self.button22 = tk.Button(self, height = 4, width = 8, text=' ', font='Times 20 bold', bg='gray', fg='white', command = lambda : self.playMove(2,2))\n",
        "\n",
        "        self.reset_button = tk.Button(self, text = \"Reset\", command = self.resetGame)\n",
        "        self.Q_button = tk.Button(self, text=\"Display Q values\", command = self.displayQ, relief='raised')\n",
        "\n",
        "        # Insert to grid\n",
        "        self.info_label.grid(row = 0, column = 1)\n",
        "\n",
        "        self.button00.grid(row = 1, column = 0)\n",
        "        self.button01.grid(row = 1, column = 1)\n",
        "        self.button02.grid(row = 1, column = 2)\n",
        "\n",
        "        self.button10.grid(row = 2, column = 0)\n",
        "        self.button11.grid(row = 2, column = 1)\n",
        "        self.button12.grid(row = 2, column = 2)\n",
        "\n",
        "        self.button20.grid(row = 3, column = 0)\n",
        "        self.button21.grid(row = 3, column = 1)\n",
        "        self.button22.grid(row = 3, column = 2)\n",
        "\n",
        "        self.reset_button.grid(row = 4, column = 1)\n",
        "        self.Q_button.grid(row = 4, column = 2)\n",
        "\n",
        "\n",
        "    def getText(self, x, y):\n",
        "        value = self.board.getPosition(x, y)\n",
        "        if value == playerX:\n",
        "            return \"X\"\n",
        "        elif value == playerO:\n",
        "            return \"O\"\n",
        "        else:\n",
        "            return \" \"\n",
        "\n",
        "    def getQValue(self, x, y):\n",
        "        value = self.getText(x,y)\n",
        "        if value == \" \":\n",
        "            action_hash = self.agent.getActionHash(np.asarray([x,y]))\n",
        "            state_hash = self.board.getStateHash(inverted=True)\n",
        "            Q = self.agent.trainer.getValueQ(state_hash, action_hash)\n",
        "            return \"{:.2f}\".format(Q)\n",
        "        else:\n",
        "            return value\n",
        "\n",
        "    def updateText(self):\n",
        "\n",
        "        self.info_label.configure(text=\"Player {}'s turn\".format(\"X\" if self.current_player == playerX else \"O\"))\n",
        "\n",
        "        self.button00.configure(text=self.getText(0,0), state=tk.ACTIVE)\n",
        "        self.button01.configure(text=self.getText(0,1), state=tk.ACTIVE)\n",
        "        self.button02.configure(text=self.getText(0,2), state=tk.ACTIVE)\n",
        "        self.button10.configure(text=self.getText(1,0), state=tk.ACTIVE)\n",
        "        self.button11.configure(text=self.getText(1,1), state=tk.ACTIVE)\n",
        "        self.button12.configure(text=self.getText(1,2), state=tk.ACTIVE)\n",
        "        self.button20.configure(text=self.getText(2,0), state=tk.ACTIVE)\n",
        "        self.button21.configure(text=self.getText(2,1), state=tk.ACTIVE)\n",
        "        self.button22.configure(text=self.getText(2,2), state=tk.ACTIVE)\n",
        "\n",
        "        self.reset_button.configure(state=tk.ACTIVE)\n",
        "\n",
        "    def displayQ(self):\n",
        "\n",
        "        if self.Q_button.config('relief')[-1] == 'sunken':\n",
        "            self.updateText()\n",
        "            self.Q_button.configure(text=\"Display Q values\", relief='raised')\n",
        "        else:\n",
        "            self.button00.configure(text=self.getQValue(0,0), state=tk.DISABLED)\n",
        "            self.button01.configure(text=self.getQValue(0,1), state=tk.DISABLED)\n",
        "            self.button02.configure(text=self.getQValue(0,2), state=tk.DISABLED)\n",
        "            self.button10.configure(text=self.getQValue(1,0), state=tk.DISABLED)\n",
        "            self.button11.configure(text=self.getQValue(1,1), state=tk.DISABLED)\n",
        "            self.button12.configure(text=self.getQValue(1,2), state=tk.DISABLED)\n",
        "            self.button20.configure(text=self.getQValue(2,0), state=tk.DISABLED)\n",
        "            self.button21.configure(text=self.getQValue(2,1), state=tk.DISABLED)\n",
        "            self.button22.configure(text=self.getQValue(2,2), state=tk.DISABLED)\n",
        "            self.reset_button.configure(state=tk.DISABLED)\n",
        "\n",
        "            self.Q_button.configure(text=\"Hide Q values\", relief='sunken')\n",
        "\n",
        "\n",
        "\n",
        "\n",
        "    def playMove(self, x, y):\n",
        "\n",
        "        # Raise error because position is non-empty\n",
        "        if self.board.getPosition(x,y) == playerX or self.board.getPosition(x,y) == playerO:\n",
        "            print(\"Error: This action is not possible, pick another position.\")\n",
        "        else:\n",
        "            # Update board\n",
        "            self.board.setPosition(x, y, self.current_player)\n",
        "\n",
        "            # Swap player\n",
        "            if self.current_player == playerX:\n",
        "                self.current_player = playerO\n",
        "            else:\n",
        "                self.current_player = playerX\n",
        "\n",
        "            # Update text\n",
        "            self.updateText()\n",
        "\n",
        "            # Check if game has ended\n",
        "            winner = self.board.checkWinner()\n",
        "            if winner != 0 or self.board.checkGameEnded():\n",
        "                self.endGame()\n",
        "\n",
        "            elif self.current_player == self.agent_symbol:\n",
        "                self.agentMove()\n",
        "\n",
        "    def agentMove(self):\n",
        "        move = self.agent.getBestAction()\n",
        "        time.sleep(random.random()*1 + 0.5)\n",
        "        self.playMove(move[0], move[1])\n",
        "\n",
        "    def endGame(self):\n",
        "        winner = self.board.checkWinner()\n",
        "        if winner == playerX:\n",
        "            self.info_label.configure(text = \"Player X won!\")\n",
        "        elif winner == playerO:\n",
        "            self.info_label.configure(text = \"Player O won!\")\n",
        "        else:\n",
        "            self.info_label.configure(text = \"Game tied\")\n",
        "\n",
        "    def resetGame(self):\n",
        "        self.board.resetGame()\n",
        "        self.current_player = playerX if (random.random() < 0.5) else playerO\n",
        "        if self.current_player == self.agent_symbol:\n",
        "            self.agentMove()\n",
        "        self.updateText()\n",
        "\n",
        "\n",
        "\n",
        "if __name__ == \"__main__\":\n",
        "    Application()\n",
        "    tk.mainloop()\n",
        "    root.mainloop()"
      ],
      "execution_count": null,
      "outputs": []
    },
    {
      "cell_type": "code",
      "metadata": {
        "id": "J6HsdS5GbSjd"
      },
      "source": [
        "tf.compat.v1.enable_v2_behavior()\n",
        "\n",
        "# Set up a virtual display for rendering OpenAI gym environments.\n",
        "display = pyvirtualdisplay.Display(visible=0, size=(1400, 900)).start()"
      ],
      "execution_count": null,
      "outputs": []
    },
    {
      "cell_type": "code",
      "metadata": {
        "id": "NspmzG4nP3b9"
      },
      "source": [
        "tf.version.VERSION"
      ],
      "execution_count": null,
      "outputs": []
    },
    {
      "cell_type": "markdown",
      "metadata": {
        "id": "LmC0NDhdLIKY"
      },
      "source": [
        "## Hyperparameters"
      ]
    },
    {
      "cell_type": "code",
      "metadata": {
        "id": "HC1kNrOsLSIZ"
      },
      "source": [
        "num_iterations = 20000 # @param {type:\"integer\"}\n",
        "\n",
        "initial_collect_steps = 100  # @param {type:\"integer\"}\n",
        "collect_steps_per_iteration = 1  # @param {type:\"integer\"}\n",
        "replay_buffer_max_length = 100000  # @param {type:\"integer\"}\n",
        "\n",
        "batch_size = 64  # @param {type:\"integer\"}\n",
        "learning_rate = 1e-3  # @param {type:\"number\"}\n",
        "log_interval = 200  # @param {type:\"integer\"}\n",
        "\n",
        "num_eval_episodes = 10  # @param {type:\"integer\"}\n",
        "eval_interval = 1000  # @param {type:\"integer\"}"
      ],
      "execution_count": null,
      "outputs": []
    },
    {
      "cell_type": "markdown",
      "metadata": {
        "id": "VMsJC3DEgI0x"
      },
      "source": [
        "## Environment\n",
        "\n",
        "In Reinforcement Learning (RL), an environment represents the task or problem to be solved. Standard environments can be created in TF-Agents using `tf_agents.environments` suites. TF-Agents has suites for loading environments from sources such as the OpenAI Gym, Atari, and DM Control.\n",
        "\n",
        "Load the CartPole environment from the OpenAI Gym suite."
      ]
    },
    {
      "cell_type": "code",
      "metadata": {
        "id": "pYEz-S9gEv2-"
      },
      "source": [
        "env_name = 'CartPole-v0'\n",
        "env = suite_gym.load(env_name)"
      ],
      "execution_count": null,
      "outputs": []
    },
    {
      "cell_type": "markdown",
      "metadata": {
        "id": "IIHYVBkuvPNw"
      },
      "source": [
        "You can render this environment to see how it looks. A free-swinging pole is attached to a cart.  The goal is to move the cart right or left in order to keep the pole pointing up."
      ]
    },
    {
      "cell_type": "code",
      "metadata": {
        "id": "RlO7WIQHu_7D"
      },
      "source": [
        "#@test {\"skip\": true}\n",
        "env.reset()\n",
        "PIL.Image.fromarray(env.render())"
      ],
      "execution_count": null,
      "outputs": []
    },
    {
      "cell_type": "markdown",
      "metadata": {
        "id": "B9_lskPOey18"
      },
      "source": [
        "The `environment.step` method takes an `action` in the environment and returns a `TimeStep` tuple containing the next observation of the environment and the reward for the action.\n",
        "\n",
        "The `time_step_spec()` method returns the specification for the `TimeStep` tuple. Its `observation` attribute shows the shape of observations, the data types, and the ranges of allowed values. The `reward` attribute shows the same details for the reward.\n"
      ]
    },
    {
      "cell_type": "code",
      "metadata": {
        "id": "exDv57iHfwQV"
      },
      "source": [
        "print('Observation Spec:')\n",
        "print(env.time_step_spec().observation)"
      ],
      "execution_count": null,
      "outputs": []
    },
    {
      "cell_type": "code",
      "metadata": {
        "id": "UxiSyCbBUQPi"
      },
      "source": [
        "print('Reward Spec:')\n",
        "print(env.time_step_spec().reward)"
      ],
      "execution_count": null,
      "outputs": []
    },
    {
      "cell_type": "markdown",
      "metadata": {
        "id": "b_lHcIcqUaqB"
      },
      "source": [
        "The `action_spec()` method returns the shape, data types, and allowed values of valid actions."
      ]
    },
    {
      "cell_type": "code",
      "metadata": {
        "id": "bttJ4uxZUQBr"
      },
      "source": [
        "print('Action Spec:')\n",
        "print(env.action_spec())"
      ],
      "execution_count": null,
      "outputs": []
    },
    {
      "cell_type": "markdown",
      "metadata": {
        "id": "eJCgJnx3g0yY"
      },
      "source": [
        "In the Cartpole environment:\n",
        "\n",
        "-   `observation` is an array of 4 floats:\n",
        "    -   the position and velocity of the cart\n",
        "    -   the angular position and velocity of the pole\n",
        "-   `reward` is a scalar float value\n",
        "-   `action` is a scalar integer with only two possible values:\n",
        "    -   `0` — \"move left\"\n",
        "    -   `1` — \"move right\"\n"
      ]
    },
    {
      "cell_type": "code",
      "metadata": {
        "id": "V2UGR5t_iZX-"
      },
      "source": [
        "time_step = env.reset()\n",
        "print('Time step:')\n",
        "print(time_step)\n",
        "\n",
        "action = np.array(1, dtype=np.int32)\n",
        "\n",
        "next_time_step = env.step(action)\n",
        "print('Next time step:')\n",
        "print(next_time_step)"
      ],
      "execution_count": null,
      "outputs": []
    },
    {
      "cell_type": "markdown",
      "metadata": {
        "id": "4JSc9GviWUBK"
      },
      "source": [
        "Usually two environments are instantiated: one for training and one for evaluation."
      ]
    },
    {
      "cell_type": "code",
      "metadata": {
        "id": "N7brXNIGWXjC"
      },
      "source": [
        "train_py_env = suite_gym.load(env_name)\n",
        "eval_py_env = suite_gym.load(env_name)"
      ],
      "execution_count": null,
      "outputs": []
    },
    {
      "cell_type": "markdown",
      "metadata": {
        "id": "zuUqXAVmecTU"
      },
      "source": [
        "The Cartpole environment, like most environments, is written in pure Python. This is converted to TensorFlow using the `TFPyEnvironment` wrapper.\n",
        "\n",
        "The original environment's API uses Numpy arrays. The `TFPyEnvironment` converts these to `Tensors` to make it compatible with Tensorflow agents and policies.\n"
      ]
    },
    {
      "cell_type": "code",
      "metadata": {
        "id": "Xp-Y4mD6eDhF"
      },
      "source": [
        "train_env = tf_py_environment.TFPyEnvironment(train_py_env)\n",
        "eval_env = tf_py_environment.TFPyEnvironment(eval_py_env)"
      ],
      "execution_count": null,
      "outputs": []
    },
    {
      "cell_type": "markdown",
      "metadata": {
        "id": "E9lW_OZYFR8A"
      },
      "source": [
        "## Agent\n",
        "\n",
        "The algorithm used to solve an RL problem is represented by an `Agent`. TF-Agents provides standard implementations of a variety of `Agents`, including:\n",
        "\n",
        "-   [DQN](https://storage.googleapis.com/deepmind-media/dqn/DQNNaturePaper.pdf) (used in this tutorial)\n",
        "-   [REINFORCE](http://www-anw.cs.umass.edu/~barto/courses/cs687/williams92simple.pdf)\n",
        "-   [DDPG](https://arxiv.org/pdf/1509.02971.pdf)\n",
        "-   [TD3](https://arxiv.org/pdf/1802.09477.pdf)\n",
        "-   [PPO](https://arxiv.org/abs/1707.06347)\n",
        "-   [SAC](https://arxiv.org/abs/1801.01290).\n",
        "\n",
        "The DQN agent can be used in any environment which has a discrete action space.\n",
        "\n",
        "At the heart of a DQN Agent is a `QNetwork`, a neural network model that can learn to predict `QValues` (expected returns) for all actions, given an observation from the environment.\n",
        "\n",
        "Use `tf_agents.networks.q_network` to create a `QNetwork`, passing in the `observation_spec`, `action_spec`, and a tuple describing the number and size of the model's hidden layers.\n"
      ]
    },
    {
      "cell_type": "code",
      "metadata": {
        "id": "TgkdEPg_muzV"
      },
      "source": [
        "fc_layer_params = (100,)\n",
        "\n",
        "q_net = q_network.QNetwork(\n",
        "    train_env.observation_spec(),\n",
        "    train_env.action_spec(),\n",
        "    fc_layer_params=fc_layer_params)"
      ],
      "execution_count": null,
      "outputs": []
    },
    {
      "cell_type": "markdown",
      "metadata": {
        "id": "z62u55hSmviJ"
      },
      "source": [
        "Now use `tf_agents.agents.dqn.dqn_agent` to instantiate a `DqnAgent`. In addition to the `time_step_spec`, `action_spec` and the QNetwork, the agent constructor also requires an optimizer (in this case, `AdamOptimizer`), a loss function, and an integer step counter."
      ]
    },
    {
      "cell_type": "code",
      "metadata": {
        "id": "jbY4yrjTEyc9"
      },
      "source": [
        "optimizer = tf.compat.v1.train.AdamOptimizer(learning_rate=learning_rate)\n",
        "\n",
        "train_step_counter = tf.Variable(0)\n",
        "\n",
        "agent = dqn_agent.DqnAgent(\n",
        "    train_env.time_step_spec(),\n",
        "    train_env.action_spec(),\n",
        "    q_network=q_net,\n",
        "    optimizer=optimizer,\n",
        "    td_errors_loss_fn=common.element_wise_squared_loss,\n",
        "    train_step_counter=train_step_counter)\n",
        "\n",
        "agent.initialize()"
      ],
      "execution_count": null,
      "outputs": []
    },
    {
      "cell_type": "markdown",
      "metadata": {
        "id": "I0KLrEPwkn5x"
      },
      "source": [
        "## Policies\n",
        "\n",
        "A policy defines the way an agent acts in an environment. Typically, the goal of reinforcement learning is to train the underlying model until the policy produces the desired outcome.\n",
        "\n",
        "In this tutorial:\n",
        "\n",
        "-   The desired outcome is keeping the pole balanced upright over the cart.\n",
        "-   The policy returns an action (left or right) for each `time_step` observation.\n",
        "\n",
        "Agents contain two policies:\n",
        "\n",
        "-   `agent.policy` — The main policy that is used for evaluation and deployment.\n",
        "-   `agent.collect_policy` — A second policy that is used for data collection.\n"
      ]
    },
    {
      "cell_type": "code",
      "metadata": {
        "id": "BwY7StuMkuV4"
      },
      "source": [
        "eval_policy = agent.policy\n",
        "collect_policy = agent.collect_policy"
      ],
      "execution_count": null,
      "outputs": []
    },
    {
      "cell_type": "markdown",
      "metadata": {
        "id": "2Qs1Fl3dV0ae"
      },
      "source": [
        "Policies can be created independently of agents. For example, use `tf_agents.policies.random_tf_policy` to create a policy which will randomly select an action for each `time_step`."
      ]
    },
    {
      "cell_type": "code",
      "metadata": {
        "id": "HE37-UCIrE69"
      },
      "source": [
        "random_policy = random_tf_policy.RandomTFPolicy(train_env.time_step_spec(),\n",
        "                                                train_env.action_spec())"
      ],
      "execution_count": null,
      "outputs": []
    },
    {
      "cell_type": "markdown",
      "metadata": {
        "id": "dOlnlRRsUbxP"
      },
      "source": [
        "To get an action from a policy, call the `policy.action(time_step)` method. The `time_step` contains the observation from the environment. This method returns a `PolicyStep`, which is a named tuple with three components:\n",
        "\n",
        "-   `action` — the action to be taken (in this case, `0` or `1`)\n",
        "-   `state` — used for stateful (that is, RNN-based) policies\n",
        "-   `info` — auxiliary data, such as log probabilities of actions"
      ]
    },
    {
      "cell_type": "code",
      "metadata": {
        "id": "5gCcpXswVAxk"
      },
      "source": [
        "example_environment = tf_py_environment.TFPyEnvironment(\n",
        "    suite_gym.load('CartPole-v0'))"
      ],
      "execution_count": null,
      "outputs": []
    },
    {
      "cell_type": "code",
      "metadata": {
        "id": "D4DHZtq3Ndis"
      },
      "source": [
        "time_step = example_environment.reset()"
      ],
      "execution_count": null,
      "outputs": []
    },
    {
      "cell_type": "code",
      "metadata": {
        "id": "PRFqAUzpNaAW"
      },
      "source": [
        "random_policy.action(time_step)"
      ],
      "execution_count": null,
      "outputs": []
    },
    {
      "cell_type": "markdown",
      "metadata": {
        "id": "94rCXQtbUbXv"
      },
      "source": [
        "## Metrics and Evaluation\n",
        "\n",
        "The most common metric used to evaluate a policy is the average return. The return is the sum of rewards obtained while running a policy in an environment for an episode. Several episodes are run, creating an average return.\n",
        "\n",
        "The following function computes the average return of a policy, given the policy, environment, and a number of episodes.\n"
      ]
    },
    {
      "cell_type": "code",
      "metadata": {
        "id": "bitzHo5_UbXy"
      },
      "source": [
        "#@test {\"skip\": true}\n",
        "def compute_avg_return(environment, policy, num_episodes=10):\n",
        "\n",
        "  total_return = 0.0\n",
        "  for _ in range(num_episodes):\n",
        "\n",
        "    time_step = environment.reset()\n",
        "    episode_return = 0.0\n",
        "\n",
        "    while not time_step.is_last():\n",
        "      action_step = policy.action(time_step)\n",
        "      time_step = environment.step(action_step.action)\n",
        "      episode_return += time_step.reward\n",
        "    total_return += episode_return\n",
        "\n",
        "  avg_return = total_return / num_episodes\n",
        "  return avg_return.numpy()[0]\n",
        "\n",
        "\n",
        "# See also the metrics module for standard implementations of different metrics.\n",
        "# https://github.com/tensorflow/agents/tree/master/tf_agents/metrics"
      ],
      "execution_count": null,
      "outputs": []
    },
    {
      "cell_type": "markdown",
      "metadata": {
        "id": "_snCVvq5Z8lJ"
      },
      "source": [
        "Running this computation on the `random_policy` shows a baseline performance in the environment."
      ]
    },
    {
      "cell_type": "code",
      "metadata": {
        "id": "9bgU6Q6BZ8Bp"
      },
      "source": [
        "compute_avg_return(eval_env, random_policy, num_eval_episodes)"
      ],
      "execution_count": null,
      "outputs": []
    },
    {
      "cell_type": "markdown",
      "metadata": {
        "id": "NLva6g2jdWgr"
      },
      "source": [
        "## Replay Buffer\n",
        "\n",
        "The replay buffer keeps track of data collected from the environment. This tutorial uses `tf_agents.replay_buffers.tf_uniform_replay_buffer.TFUniformReplayBuffer`, as it is the most common.\n",
        "\n",
        "The constructor requires the specs for the data it will be collecting. This is available from the agent using the `collect_data_spec` method. The batch size and maximum buffer length are also required.\n"
      ]
    },
    {
      "cell_type": "code",
      "metadata": {
        "id": "vX2zGUWJGWAl"
      },
      "source": [
        "replay_buffer = tf_uniform_replay_buffer.TFUniformReplayBuffer(\n",
        "    data_spec=agent.collect_data_spec,\n",
        "    batch_size=train_env.batch_size,\n",
        "    max_length=replay_buffer_max_length)"
      ],
      "execution_count": null,
      "outputs": []
    },
    {
      "cell_type": "markdown",
      "metadata": {
        "id": "ZGNTDJpZs4NN"
      },
      "source": [
        "For most agents, `collect_data_spec` is a named tuple called `Trajectory`, containing the specs for observations, actions, rewards, and other items."
      ]
    },
    {
      "cell_type": "code",
      "metadata": {
        "id": "_IZ-3HcqgE1z"
      },
      "source": [
        "agent.collect_data_spec"
      ],
      "execution_count": null,
      "outputs": []
    },
    {
      "cell_type": "code",
      "metadata": {
        "id": "sy6g1tGcfRlw"
      },
      "source": [
        "agent.collect_data_spec._fields"
      ],
      "execution_count": null,
      "outputs": []
    },
    {
      "cell_type": "markdown",
      "metadata": {
        "id": "rVD5nQ9ZGo8_"
      },
      "source": [
        "## Data Collection\n",
        "\n",
        "Now execute the random policy in the environment for a few steps, recording the data in the replay buffer."
      ]
    },
    {
      "cell_type": "code",
      "metadata": {
        "id": "wr1KSAEGG4h9"
      },
      "source": [
        "#@test {\"skip\": true}\n",
        "def collect_step(environment, policy, buffer):\n",
        "  time_step = environment.current_time_step()\n",
        "  action_step = policy.action(time_step)\n",
        "  next_time_step = environment.step(action_step.action)\n",
        "  traj = trajectory.from_transition(time_step, action_step, next_time_step)\n",
        "\n",
        "  # Add trajectory to the replay buffer\n",
        "  buffer.add_batch(traj)\n",
        "\n",
        "def collect_data(env, policy, buffer, steps):\n",
        "  for _ in range(steps):\n",
        "    collect_step(env, policy, buffer)\n",
        "\n",
        "collect_data(train_env, random_policy, replay_buffer, initial_collect_steps)\n",
        "\n",
        "# This loop is so common in RL, that we provide standard implementations.\n",
        "# For more details see the drivers module.\n",
        "# https://www.tensorflow.org/agents/api_docs/python/tf_agents/drivers"
      ],
      "execution_count": null,
      "outputs": []
    },
    {
      "cell_type": "markdown",
      "metadata": {
        "id": "84z5pQJdoKxo"
      },
      "source": [
        "The replay buffer is now a collection of Trajectories."
      ]
    },
    {
      "cell_type": "code",
      "metadata": {
        "id": "4wZnLu2ViO4E"
      },
      "source": [
        "# For the curious:\n",
        "# Uncomment to peel one of these off and inspect it.\n",
        "# iter(replay_buffer.as_dataset()).next()"
      ],
      "execution_count": null,
      "outputs": []
    },
    {
      "cell_type": "markdown",
      "metadata": {
        "id": "TujU-PMUsKjS"
      },
      "source": [
        "The agent needs access to the replay buffer. This is provided by creating an iterable `tf.data.Dataset` pipeline which will feed data to the agent.\n",
        "\n",
        "Each row of the replay buffer only stores a single observation step. But since the DQN Agent needs both the current and next observation to compute the loss, the dataset pipeline will sample two adjacent rows for each item in the batch (`num_steps=2`).\n",
        "\n",
        "This dataset is also optimized by running parallel calls and prefetching data."
      ]
    },
    {
      "cell_type": "code",
      "metadata": {
        "id": "ba7bilizt_qW"
      },
      "source": [
        "# Dataset generates trajectories with shape [Bx2x...]\n",
        "dataset = replay_buffer.as_dataset(\n",
        "    num_parallel_calls=3,\n",
        "    sample_batch_size=batch_size,\n",
        "    num_steps=2).prefetch(3)\n",
        "\n",
        "\n",
        "dataset"
      ],
      "execution_count": null,
      "outputs": []
    },
    {
      "cell_type": "code",
      "metadata": {
        "id": "K13AST-2ppOq"
      },
      "source": [
        "iterator = iter(dataset)\n",
        "\n",
        "print(iterator)\n"
      ],
      "execution_count": null,
      "outputs": []
    },
    {
      "cell_type": "code",
      "metadata": {
        "id": "Th5w5Sff0b16"
      },
      "source": [
        "# For the curious:\n",
        "# Uncomment to see what the dataset iterator is feeding to the agent.\n",
        "# Compare this representation of replay data\n",
        "# to the collection of individual trajectories shown earlier.\n",
        "\n",
        "# iterator.next()"
      ],
      "execution_count": null,
      "outputs": []
    },
    {
      "cell_type": "markdown",
      "metadata": {
        "id": "hBc9lj9VWWtZ"
      },
      "source": [
        "## Training the agent\n",
        "\n",
        "Two things must happen during the training loop:\n",
        "\n",
        "-   collect data from the environment\n",
        "-   use that data to train the agent's neural network(s)\n",
        "\n",
        "This example also periodicially evaluates the policy and prints the current score.\n",
        "\n",
        "The following will take ~5 minutes to run."
      ]
    },
    {
      "cell_type": "code",
      "metadata": {
        "id": "0pTbJ3PeyF-u"
      },
      "source": [
        "#@test {\"skip\": true}\n",
        "try:\n",
        "  %%time\n",
        "except:\n",
        "  pass\n",
        "\n",
        "# (Optional) Optimize by wrapping some of the code in a graph using TF function.\n",
        "agent.train = common.function(agent.train)\n",
        "\n",
        "# Reset the train step\n",
        "agent.train_step_counter.assign(0)\n",
        "\n",
        "# Evaluate the agent's policy once before training.\n",
        "avg_return = compute_avg_return(eval_env, agent.policy, num_eval_episodes)\n",
        "returns = [avg_return]\n",
        "\n",
        "for _ in range(num_iterations):\n",
        "\n",
        "  # Collect a few steps using collect_policy and save to the replay buffer.\n",
        "  collect_data(train_env, agent.collect_policy, replay_buffer, collect_steps_per_iteration)\n",
        "\n",
        "  # Sample a batch of data from the buffer and update the agent's network.\n",
        "  experience, unused_info = next(iterator)\n",
        "  train_loss = agent.train(experience).loss\n",
        "\n",
        "  step = agent.train_step_counter.numpy()\n",
        "\n",
        "  if step % log_interval == 0:\n",
        "    print('step = {0}: loss = {1}'.format(step, train_loss))\n",
        "\n",
        "  if step % eval_interval == 0:\n",
        "    avg_return = compute_avg_return(eval_env, agent.policy, num_eval_episodes)\n",
        "    print('step = {0}: Average Return = {1}'.format(step, avg_return))\n",
        "    returns.append(avg_return)"
      ],
      "execution_count": null,
      "outputs": []
    },
    {
      "cell_type": "markdown",
      "metadata": {
        "id": "68jNcA_TiJDq"
      },
      "source": [
        "## Visualization\n"
      ]
    },
    {
      "cell_type": "markdown",
      "metadata": {
        "id": "aO-LWCdbbOIC"
      },
      "source": [
        "### Plots\n",
        "\n",
        "Use `matplotlib.pyplot` to chart how the policy improved during training.\n",
        "\n",
        "One iteration of `Cartpole-v0` consists of 200 time steps. The environment gives a reward of `+1` for each step the pole stays up, so the maximum return for one episode is 200. The charts shows the return increasing towards that maximum each time it is evaluated during training. (It may be a little unstable and not increase monotonically each time.)"
      ]
    },
    {
      "cell_type": "code",
      "metadata": {
        "id": "NxtL1mbOYCVO"
      },
      "source": [
        "#@test {\"skip\": true}\n",
        "\n",
        "iterations = range(0, num_iterations + 1, eval_interval)\n",
        "plt.plot(iterations, returns)\n",
        "plt.ylabel('Average Return')\n",
        "plt.xlabel('Iterations')\n",
        "plt.ylim(top=250)"
      ],
      "execution_count": null,
      "outputs": []
    },
    {
      "cell_type": "markdown",
      "metadata": {
        "id": "M7-XpPP99Cy7"
      },
      "source": [
        "### Videos"
      ]
    },
    {
      "cell_type": "markdown",
      "metadata": {
        "id": "9pGfGxSH32gn"
      },
      "source": [
        "Charts are nice. But more exciting is seeing an agent actually performing a task in an environment.\n",
        "\n",
        "First, create a function to embed videos in the notebook."
      ]
    },
    {
      "cell_type": "code",
      "metadata": {
        "id": "ULaGr8pvOKbl"
      },
      "source": [
        "def embed_mp4(filename):\n",
        "  \"\"\"Embeds an mp4 file in the notebook.\"\"\"\n",
        "  video = open(filename,'rb').read()\n",
        "  b64 = base64.b64encode(video)\n",
        "  tag = '''\n",
        "  <video width=\"640\" height=\"480\" controls>\n",
        "    <source src=\"data:video/mp4;base64,{0}\" type=\"video/mp4\">\n",
        "  Your browser does not support the video tag.\n",
        "  </video>'''.format(b64.decode())\n",
        "\n",
        "  return IPython.display.HTML(tag)"
      ],
      "execution_count": null,
      "outputs": []
    },
    {
      "cell_type": "markdown",
      "metadata": {
        "id": "9c_PH-pX4Pr5"
      },
      "source": [
        "Now iterate through a few episodes of the Cartpole game with the agent. The underlying Python environment (the one \"inside\" the TensorFlow environment wrapper) provides a `render()` method, which outputs an image of the environment state. These can be collected into a video."
      ]
    },
    {
      "cell_type": "code",
      "metadata": {
        "id": "owOVWB158NlF"
      },
      "source": [
        "def create_policy_eval_video(policy, filename, num_episodes=5, fps=30):\n",
        "  filename = filename + \".mp4\"\n",
        "  with imageio.get_writer(filename, fps=fps) as video:\n",
        "    for _ in range(num_episodes):\n",
        "      time_step = eval_env.reset()\n",
        "      video.append_data(eval_py_env.render())\n",
        "      while not time_step.is_last():\n",
        "        action_step = policy.action(time_step)\n",
        "        time_step = eval_env.step(action_step.action)\n",
        "        video.append_data(eval_py_env.render())\n",
        "  return embed_mp4(filename)\n",
        "\n",
        "\n",
        "\n",
        "\n",
        "create_policy_eval_video(agent.policy, \"trained-agent\")"
      ],
      "execution_count": null,
      "outputs": []
    },
    {
      "cell_type": "markdown",
      "metadata": {
        "id": "povaAOcZygLw"
      },
      "source": [
        "For fun, compare the trained agent (above) to an agent moving randomly. (It does not do as well.)"
      ]
    },
    {
      "cell_type": "code",
      "metadata": {
        "id": "pJZIdC37yNH4"
      },
      "source": [
        "create_policy_eval_video(random_policy, \"random-agent\")"
      ],
      "execution_count": null,
      "outputs": []
    }
  ]
}